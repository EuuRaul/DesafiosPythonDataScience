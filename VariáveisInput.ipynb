{
  "nbformat": 4,
  "nbformat_minor": 0,
  "metadata": {
    "colab": {
      "provenance": [],
      "authorship_tag": "ABX9TyOz1DzDyOVMFEPqX8dsOav8"
    },
    "kernelspec": {
      "name": "python3",
      "display_name": "Python 3"
    },
    "language_info": {
      "name": "python"
    }
  },
  "cells": [
    {
      "cell_type": "code",
      "execution_count": 36,
      "metadata": {
        "colab": {
          "base_uri": "https://localhost:8080/"
        },
        "id": "4yZbK2QO5hE2",
        "outputId": "458453df-5ed3-4240-dfa8-1e1302efdb1f"
      },
      "outputs": [
        {
          "output_type": "stream",
          "name": "stdout",
          "text": [
            "Digite seu nome: Raul\n",
            "Digite sua idade: 16\n",
            "Digite sua altura: 1.82\n",
            "Olá Raul, você tem 16 anos e mede 1.82 metros!.\n"
          ]
        }
      ],
      "source": [
        "# Desafio 1 - Coleta e Amostragem de Dados\n",
        "nome = input(\"Digite seu nome: \")\n",
        "idade = int((input(\"Digite sua idade: \")))\n",
        "altura = float(input(\"Digite sua altura: \"))\n",
        "print(f'Olá {nome}, você tem {idade} anos e mede {altura} metros!.')"
      ]
    },
    {
      "cell_type": "code",
      "source": [
        "# Desafio 2 - Calculadora com Operadores\n",
        "valor1 = int(input(\"Vamos fazer um cálculo? Me diga o primeiro valor: \"))\n",
        "valor2 = int(input(\"Agora me diga o segundo valor (não pode ser 0 em): \"))\n",
        "valor3 = int(input(\"E por fim o último valor: \"))\n",
        "print(f\"A soma dos valores é: {valor1 + valor2 + valor3} \")\n",
        "print(f\"A subtração dos dois primeiros valores é: {valor1 - valor2} \")\n",
        "print(f\"A multiplicação dos dois primeiros valores é: {valor1 * valor2} \")\n",
        "print(f\"A divisão do primeiro valor pelo segundo é: {valor1 / valor2} \")\n",
        "print(f\"E se o segundo valor fosse uma potência do primeiro? {valor1 ** valor2}\")\n",
        "print(f\"Qual a média entre esses valores? {(valor1 + valor2 + valor3) / 3}\")\n"
      ],
      "metadata": {
        "colab": {
          "base_uri": "https://localhost:8080/"
        },
        "id": "GVoZ33WTSW6E",
        "outputId": "42401e2b-e639-431e-fc2e-49b096429f8a"
      },
      "execution_count": 43,
      "outputs": [
        {
          "output_type": "stream",
          "name": "stdout",
          "text": [
            "Vamos fazer um cálculo? Me diga o primeiro valor: 10\n",
            "Agora me diga o segundo valor (não pode ser 0 em): 10\n",
            "E por fim o último valor: 10\n",
            "A soma dos valores é: 30 \n",
            "A subtração dos dois primeiros valores é: 0 \n",
            "A multiplicação dos dois primeiros valores é: 100 \n",
            "A divisão do primeiro valor pelo segundo é: 1.0 \n",
            "E se o segundo valor fosse uma potência do primeiro? 10000000000\n",
            "Qual a média entre esses valores? 10.0\n"
          ]
        }
      ]
    },
    {
      "cell_type": "code",
      "source": [
        "# Desafio 3 - Editando Textos\n",
        "frase = input(\"Me fale uma frase: \")\n",
        "print(f\"Você selecionou a frase: {frase}\")\n",
        "print(f\"Como ficaria maiúsculo? {frase.upper()}\")\n",
        "print(f\"Como ficaria minúscula? {frase.lower()}\")\n",
        "print(f\"Como ficaria sem espaço no começo e final? {frase.strip()}\")\n",
        "print(f\"E se fosse sem espaço no começo e final tudo minusculo? {frase.strip().lower()}\")\n",
        "print(f\"E se todas as vogais e fossem trocadas pela letra f? {frase.replace('e', 'f')}\")\n",
        "print(f\"E se todas as vogais a fossem trocadas pela simbolo @? {frase.replace('a', '@')}\")\n",
        "print(f\"E se todas as letras s fossem trocadas pelo simbolo $ {frase.replace('s', '$')}\")"
      ],
      "metadata": {
        "colab": {
          "base_uri": "https://localhost:8080/"
        },
        "id": "xJtHzVj2Wd69",
        "outputId": "19ddf5d4-4126-48c8-9b6d-5cc5c3443b41"
      },
      "execution_count": 56,
      "outputs": [
        {
          "output_type": "stream",
          "name": "stdout",
          "text": [
            "Me fale uma frase: Raul é muito gato\n",
            "Você selecionou a frase: Raul é muito gato\n",
            "Como ficaria maiusculo? RAUL É MUITO GATO\n",
            "Como ficaria minuscula? raul é muito gato\n",
            "Como ficaria sem espaço no começo e final? Raul é muito gato\n",
            "E se fosse sem espaço no começo e final tudo minusculo? raul é muito gato\n",
            "E se todas as vogais e fossem trocadas pela letra f? Raul é muito gato\n",
            "E se todas as vogais a fossem trocadas pela simbolo @? R@ul é muito g@to\n",
            "E se todas as letras s fossem trocadas pelo simbolo $ Raul é muito gato\n"
          ]
        }
      ]
    }
  ]
}